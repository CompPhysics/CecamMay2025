{
 "cells": [
  {
   "cell_type": "markdown",
   "id": "85436209",
   "metadata": {
    "editable": true
   },
   "source": [
    "<!-- HTML file automatically generated from DocOnce source (https://github.com/doconce/doconce/)\n",
    "doconce format html lecturenotes.do.txt --no_mako -->\n",
    "<!-- dom:TITLE: Using Machine Learning to Classify Phase Transitions -->"
   ]
  },
  {
   "cell_type": "markdown",
   "id": "e75c1ba5",
   "metadata": {
    "editable": true
   },
   "source": [
    "# Using Machine Learning to Classify Phase Transitions\n",
    "**Morten Hjorth-Jensen**, Department of Physics and Center for Computing in Science Education, University of Oslo, Norway\n",
    "\n",
    "Date: **CEACM Flagship School: Machine Learning in Physical Sciences: Theory and Applications, May 26-30, 2025**"
   ]
  },
  {
   "cell_type": "markdown",
   "id": "faaf8ca7",
   "metadata": {
    "editable": true
   },
   "source": [
    "## What is this about?\n",
    "These notes, with pertinent exercises cover the following topics. \n",
    "1. Phase Transitions & Critical Phenomena: Definitions and key concepts (order parameters, critical points, first vs second order).\n",
    "\n",
    "2. Spin Models: 2D Ising model and the q-state Potts model (examples of phase transitions).\n",
    "\n",
    "3. Data Generation: Monte Carlo simulations for sampling spin configurations across temperatures.\n",
    "\n",
    "4. Unsupervised Learning (PCA): Principal Component Analysis to visualize phase separation without labels.\n",
    "\n",
    "5. Supervised Learning (CNN): Convolutional Neural Networks for classifying phases from raw configurations.\n",
    "\n",
    "6. Generative Models (VAE): Variational Autoencoders for latent representation learning and critical anomaly detection.\n",
    "\n",
    "7. Comparisons: Interpretability and performance trade-offs between PCA, CNN, and VAE."
   ]
  },
  {
   "cell_type": "markdown",
   "id": "574efd65",
   "metadata": {
    "editable": true
   },
   "source": [
    "## Where do I find the material?\n",
    "\n",
    "All the material here can be found in the PDF files, codes and jupyter-notebooks at the above **doc** folder, see the **pub** subfolder, see <https://github.com/CompPhysics/CecamMay2025>"
   ]
  },
  {
   "cell_type": "markdown",
   "id": "653c9a12",
   "metadata": {
    "editable": true
   },
   "source": [
    "## AI/ML and some statements you may have heard (and what do they mean?)\n",
    "\n",
    "1. Fei-Fei Li on ImageNet: **map out the entire world of objects** ([The data that transformed AI research](https://cacm.acm.org/news/219702-the-data-that-transformed-ai-research-and-possibly-the-world/fulltext))\n",
    "\n",
    "2. Russell and Norvig in their popular textbook: **relevant to any intellectual task; it is truly a universal field** ([Artificial Intelligence, A modern approach](http://aima.cs.berkeley.edu/))\n",
    "\n",
    "3. Woody Bledsoe puts it more bluntly: **in the long run, AI is the only science** (quoted in Pamilla McCorduck, [Machines who think](https://www.pamelamccorduck.com/machines-who-think))\n",
    "\n",
    "If you wish to have a critical read on AI/ML from a societal point of view, see [Kate Crawford's recent text Atlas of AI](https://www.katecrawford.net/). \n",
    "\n",
    "**Here: with AI/ML we intend a collection of machine learning methods with an emphasis on statistical learning and data analysis**"
   ]
  },
  {
   "cell_type": "markdown",
   "id": "04dd92d1",
   "metadata": {
    "editable": true
   },
   "source": [
    "## Types of machine learning\n",
    "\n",
    "The approaches to machine learning are many, but are often split into two main categories. \n",
    "In *supervised learning* we know the answer to a problem,\n",
    "and let the computer deduce the logic behind it. On the other hand, *unsupervised learning*\n",
    "is a method for finding patterns and relationship in data sets without any prior knowledge of the system.\n",
    "\n",
    "An important  third category is  *reinforcement learning*. This is a paradigm \n",
    "of learning inspired by behavioural psychology, where learning is achieved by trial-and-error, \n",
    "solely from rewards and punishment."
   ]
  },
  {
   "cell_type": "markdown",
   "id": "1ce9c709",
   "metadata": {
    "editable": true
   },
   "source": [
    "## Main categories\n",
    "Another way to categorize machine learning tasks is to consider the desired output of a system.\n",
    "Some of the most common tasks are:\n",
    "\n",
    "  * Classification: Outputs are divided into two or more classes. The goal is to   produce a model that assigns inputs into one of these classes. An example is to identify  digits based on pictures of hand-written ones. Classification is typically supervised learning.\n",
    "\n",
    "  * Regression: Finding a functional relationship between an input data set and a reference data set.   The goal is to construct a function that maps input data to continuous output values.\n",
    "\n",
    "  * Clustering: Data are divided into groups with certain common traits, without knowing the different groups beforehand.  It is thus a form of unsupervised learning."
   ]
  },
  {
   "cell_type": "markdown",
   "id": "76753842",
   "metadata": {
    "editable": true
   },
   "source": [
    "## The plethora  of machine learning algorithms/methods\n",
    "\n",
    "1. Deep learning: Neural Networks (NN), Convolutional NN, Recurrent NN, Boltzmann machines, autoencoders and variational autoencoders  and generative adversarial networks, stable diffusion and many more generative models\n",
    "\n",
    "2. Bayesian statistics and Bayesian Machine Learning, Bayesian experimental design, Bayesian Regression models, Bayesian neural networks, Gaussian processes and much more\n",
    "\n",
    "3. Dimensionality reduction (Principal component analysis), Clustering Methods and more\n",
    "\n",
    "4. Ensemble Methods, Random forests, bagging and voting methods, gradient boosting approaches \n",
    "\n",
    "5. Linear and logistic regression, Kernel methods, support vector machines and more\n",
    "\n",
    "6. Reinforcement Learning; Transfer Learning and more"
   ]
  },
  {
   "cell_type": "markdown",
   "id": "8290f76a",
   "metadata": {
    "editable": true
   },
   "source": [
    "## Example of generative modeling, [taken from Generative Deep Learning by David Foster](https://www.oreilly.com/library/view/generative-deep-learning/9781098134174/ch01.html)\n",
    "\n",
    "<!-- dom:FIGURE: [figures/generativelearning.png, width=900 frac=1.0] -->\n",
    "<!-- begin figure -->\n",
    "\n",
    "<img src=\"figures/generativelearning.png\" width=\"900\"><p style=\"font-size: 0.9em\"><i>Figure 1: </i></p>\n",
    "<!-- end figure -->"
   ]
  },
  {
   "cell_type": "markdown",
   "id": "e9459d48",
   "metadata": {
    "editable": true
   },
   "source": [
    "## Example of discriminative modeling, [taken from Generative Deeep Learning by David Foster](https://www.oreilly.com/library/view/generative-deep-learning/9781098134174/ch01.html)\n",
    "\n",
    "<!-- dom:FIGURE: [figures/standarddeeplearning.png, width=900 frac=1.0] -->\n",
    "<!-- begin figure -->\n",
    "\n",
    "<img src=\"figures/standarddeeplearning.png\" width=\"900\"><p style=\"font-size: 0.9em\"><i>Figure 1: </i></p>\n",
    "<!-- end figure -->"
   ]
  },
  {
   "cell_type": "markdown",
   "id": "c152d3dc",
   "metadata": {
    "editable": true
   },
   "source": [
    "## Taxonomy of generative deep learning, [taken from Generative Deep Learning by David Foster](https://www.oreilly.com/library/view/generative-deep-learning/9781098134174/ch01.html)\n",
    "\n",
    "<!-- dom:FIGURE: [figures/generativemodels.png, width=900 frac=1.0] -->\n",
    "<!-- begin figure -->\n",
    "\n",
    "<img src=\"figures/generativemodels.png\" width=\"900\"><p style=\"font-size: 0.9em\"><i>Figure 1: </i></p>\n",
    "<!-- end figure -->"
   ]
  },
  {
   "cell_type": "markdown",
   "id": "8f3bc61c",
   "metadata": {
    "editable": true
   },
   "source": [
    "## Good books with hands-on material and codes\n",
    "* [Sebastian Rashcka et al, Machine learning with Sickit-Learn and PyTorch](https://sebastianraschka.com/blog/2022/ml-pytorch-book.html)\n",
    "\n",
    "* [David Foster, Generative Deep Learning with TensorFlow](https://www.oreilly.com/library/view/generative-deep-learning/9781098134174/ch01.html)\n",
    "\n",
    "* [Bali and Gavras, Generative AI with Python and TensorFlow 2](https://github.com/PacktPublishing/Hands-On-Generative-AI-with-Python-and-TensorFlow-2)\n",
    "\n",
    "All three books have GitHub addresses from where  one can download all codes. We will borrow most of the material from these three texts as well as \n",
    "from Goodfellow, Bengio and Courville's text [Deep Learning](https://www.deeplearningbook.org/)"
   ]
  },
  {
   "cell_type": "markdown",
   "id": "325c8c51",
   "metadata": {
    "editable": true
   },
   "source": [
    "## What are the basic Machine Learning ingredients?\n",
    "Almost every problem in ML and data science starts with the same ingredients:\n",
    "* The dataset $\\boldsymbol{x}$ (could be some observable quantity of the system we are studying)\n",
    "\n",
    "* A model which is a function of a set of parameters $\\boldsymbol{\\alpha}$ that relates to the dataset, say a likelihood  function $p(\\boldsymbol{x}\\vert \\boldsymbol{\\alpha})$ or just a simple model $f(\\boldsymbol{\\alpha})$\n",
    "\n",
    "* A so-called **loss/cost/risk** function $\\mathcal{C} (\\boldsymbol{x}, f(\\boldsymbol{\\alpha}))$ which allows us to decide how well our model represents the dataset. \n",
    "\n",
    "We seek to minimize the function $\\mathcal{C} (\\boldsymbol{x}, f(\\boldsymbol{\\alpha}))$ by finding the parameter values which minimize $\\mathcal{C}$. This leads to  various minimization algorithms. It may surprise many, but at the heart of all machine learning algortihms there is an optimization problem."
   ]
  },
  {
   "cell_type": "markdown",
   "id": "00eb259b",
   "metadata": {
    "editable": true
   },
   "source": [
    "## Low-level machine learning, the family of ordinary least squares methods\n",
    "\n",
    "Our data which we want to apply a machine learning method on, consist\n",
    "of a set of inputs $\\boldsymbol{x}^T=[x_0,x_1,x_2,\\dots,x_{n-1}]$ and the\n",
    "outputs we want to model $\\boldsymbol{y}^T=[y_0,y_1,y_2,\\dots,y_{n-1}]$.\n",
    "We assume  that the output data can be represented (for a regression case) by a continuous function $f$\n",
    "through"
   ]
  },
  {
   "cell_type": "markdown",
   "id": "61dca0d6",
   "metadata": {
    "editable": true
   },
   "source": [
    "$$\n",
    "\\boldsymbol{y}=f(\\boldsymbol{x})+\\boldsymbol{\\epsilon}.\n",
    "$$"
   ]
  },
  {
   "cell_type": "markdown",
   "id": "93b974d9",
   "metadata": {
    "editable": true
   },
   "source": [
    "## Setting up the equations\n",
    "\n",
    "In linear regression we approximate the unknown function with another\n",
    "continuous function $\\tilde{\\boldsymbol{y}}(\\boldsymbol{x})$ which depends linearly on\n",
    "some unknown parameters\n",
    "$\\boldsymbol{\\theta}^T=[\\theta_0,\\theta_1,\\theta_2,\\dots,\\theta_{p-1}]$.\n",
    "\n",
    "The input data can be organized in terms of a so-called design matrix \n",
    "with an approximating function $\\boldsymbol{\\tilde{y}}$"
   ]
  },
  {
   "cell_type": "markdown",
   "id": "7591e809",
   "metadata": {
    "editable": true
   },
   "source": [
    "$$\n",
    "\\boldsymbol{\\tilde{y}}= \\boldsymbol{X}\\boldsymbol{\\theta},\n",
    "$$"
   ]
  },
  {
   "cell_type": "markdown",
   "id": "26e38314",
   "metadata": {
    "editable": true
   },
   "source": [
    "## The objective/cost/loss function\n",
    "\n",
    "The  simplest approach is the mean squared error"
   ]
  },
  {
   "cell_type": "markdown",
   "id": "3245b795",
   "metadata": {
    "editable": true
   },
   "source": [
    "$$\n",
    "C(\\boldsymbol{\\Theta})=\\frac{1}{n}\\sum_{i=0}^{n-1}\\left(y_i-\\tilde{y}_i\\right)^2=\\frac{1}{n}\\left\\{\\left(\\boldsymbol{y}-\\boldsymbol{\\tilde{y}}\\right)^T\\left(\\boldsymbol{y}-\\boldsymbol{\\tilde{y}}\\right)\\right\\},\n",
    "$$"
   ]
  },
  {
   "cell_type": "markdown",
   "id": "ac667bab",
   "metadata": {
    "editable": true
   },
   "source": [
    "or using the matrix $\\boldsymbol{X}$ and in a more compact matrix-vector notation as"
   ]
  },
  {
   "cell_type": "markdown",
   "id": "e54603eb",
   "metadata": {
    "editable": true
   },
   "source": [
    "$$\n",
    "C(\\boldsymbol{\\Theta})=\\frac{1}{n}\\left\\{\\left(\\boldsymbol{y}-\\boldsymbol{X}\\boldsymbol{\\theta}\\right)^T\\left(\\boldsymbol{y}-\\boldsymbol{X}\\boldsymbol{\\theta}\\right)\\right\\}.\n",
    "$$"
   ]
  },
  {
   "cell_type": "markdown",
   "id": "058b9b3d",
   "metadata": {
    "editable": true
   },
   "source": [
    "This function represents one of many possible ways to define the so-called cost function."
   ]
  },
  {
   "cell_type": "markdown",
   "id": "d90fd0a3",
   "metadata": {
    "editable": true
   },
   "source": [
    "## Training solution\n",
    "\n",
    "Optimizing with respect to the unknown parameters $\\theta_j$ we get"
   ]
  },
  {
   "cell_type": "markdown",
   "id": "584af197",
   "metadata": {
    "editable": true
   },
   "source": [
    "$$\n",
    "\\boldsymbol{X}^T\\boldsymbol{y} = \\boldsymbol{X}^T\\boldsymbol{X}\\boldsymbol{\\theta},\n",
    "$$"
   ]
  },
  {
   "cell_type": "markdown",
   "id": "4bde1522",
   "metadata": {
    "editable": true
   },
   "source": [
    "and if the matrix $\\boldsymbol{X}^T\\boldsymbol{X}$ is invertible we have the optimal values"
   ]
  },
  {
   "cell_type": "markdown",
   "id": "13c223ef",
   "metadata": {
    "editable": true
   },
   "source": [
    "$$\n",
    "\\hat{\\boldsymbol{\\theta}} =\\left(\\boldsymbol{X}^T\\boldsymbol{X}\\right)^{-1}\\boldsymbol{X}^T\\boldsymbol{y}.\n",
    "$$"
   ]
  },
  {
   "cell_type": "markdown",
   "id": "03e63000",
   "metadata": {
    "editable": true
   },
   "source": [
    "We say we 'learn' the unknown parameters $\\boldsymbol{\\theta}$ from the last equation."
   ]
  },
  {
   "cell_type": "markdown",
   "id": "a242953f",
   "metadata": {
    "editable": true
   },
   "source": [
    "## Selected references\n",
    "* [Mehta et al.](https://arxiv.org/abs/1803.08823) and [Physics Reports (2019)](https://www.sciencedirect.com/science/article/pii/S0370157319300766?via%3Dihub).\n",
    "\n",
    "* [Machine Learning and the Physical Sciences by Carleo et al](https://link.aps.org/doi/10.1103/RevModPhys.91.045002)\n",
    "\n",
    "* [Artificial Intelligence and Machine Learning in Nuclear Physics, Amber Boehnlein et al., Reviews Modern of Physics 94, 031003 (2022)](https://journals.aps.org/rmp/abstract/10.1103/RevModPhys.94.031003) \n",
    "\n",
    "* [Dilute neutron star matter from neural-network quantum states by Fore et al, Physical Review Research 5, 033062 (2023)](https://journals.aps.org/prresearch/pdf/10.1103/PhysRevResearch.5.033062)\n",
    "\n",
    "* [Neural-network quantum states for ultra-cold Fermi gases, Jane Kim et al, Nature Physics Communcication, submitted](https://doi.org/10.48550/arXiv.2305.08831)\n",
    "\n",
    "* [Message-Passing Neural Quantum States for the Homogeneous Electron Gas, Gabriel Pescia, Jane Kim et al. arXiv.2305.07240,](https://doi.org/10.48550/arXiv.2305.07240)\n",
    "\n",
    "* \"Efficient solutions of fermionic systems using artificial neural networks, Nordhagen et al, Frontiers in Physics"
   ]
  },
  {
   "cell_type": "markdown",
   "id": "b14889f0",
   "metadata": {
    "editable": true
   },
   "source": [
    "## Machine learning. A simple perspective on the interface between ML and Physics\n",
    "\n",
    "<!-- dom:FIGURE: [figures/mlimage.png, width=800 frac=1.0] -->\n",
    "<!-- begin figure -->\n",
    "\n",
    "<img src=\"figures/mlimage.png\" width=\"800\"><p style=\"font-size: 0.9em\"><i>Figure 1: </i></p>\n",
    "<!-- end figure -->"
   ]
  },
  {
   "cell_type": "markdown",
   "id": "2daac43b",
   "metadata": {
    "editable": true
   },
   "source": [
    "## ML in Nuclear  Physics (or any field in physics)\n",
    "\n",
    "<!-- dom:FIGURE: [figures/ML-NP.png, width=900 frac=1.0] -->\n",
    "<!-- begin figure -->\n",
    "\n",
    "<img src=\"figures/ML-NP.png\" width=\"900\"><p style=\"font-size: 0.9em\"><i>Figure 1: </i></p>\n",
    "<!-- end figure -->"
   ]
  },
  {
   "cell_type": "markdown",
   "id": "ff03b482",
   "metadata": {
    "editable": true
   },
   "source": [
    "## Phase Transitions and Critical Phenomena\n",
    "\n",
    "1. Definition: A phase transition is characterized by an abrupt, non-analytic change in a macroscopic property of a system as some external parameter (e.g. temperature) is varied . In simpler terms, the system’s state or phase changes dramatically at a critical point.\n",
    "\n",
    "2. Order Parameter: Associated with each phase transition is an order parameter – a quantity that is zero in one phase and non-zero in the other. For example, magnetization plays the role of an order parameter in magnetic systems, distinguishing ordered (magnetized) from disordered (unmagnetized) phases.\n",
    "\n",
    "3. Critical Point: At the critical temperature (or pressure, etc.), the order parameter changes (continuous or discontinuous) and the system exhibits critical phenomena: large fluctuations, divergence of correlation length, and the onset of scale invariance. Critical points of second-order transitions feature continuous change of the order parameter with characteristic critical exponents and universal behavior across different systems."
   ]
  },
  {
   "cell_type": "markdown",
   "id": "92759aae",
   "metadata": {
    "editable": true
   },
   "source": [
    "## Phase Transitions: Definitions\n",
    "1. A *phase transition* is a qualitative change in the state of a system when a control parameter (e.g. temperature) passes a critical point.\n",
    "\n",
    "2. **Order parameter**: quantity that distinguishes phases (e.g. magnetization $M$ for magnetic systems).\n",
    "\n",
    "3. **Order vs disorder**: e.g. below $T_c$ a ferromagnet has $|M|>0$ (ordered), above $T_c$ $M=0$ (disordered).\n",
    "\n",
    "4. Phases can break symmetries; transitions can be continuous (second-order) or first-order."
   ]
  },
  {
   "cell_type": "markdown",
   "id": "2362bf81",
   "metadata": {
    "editable": true
   },
   "source": [
    "## Order Parameter and Symmetry Breaking\n",
    "1. Phase transitions often involve spontaneous symmetry breaking (e.g.\\ Ising model $Z_2$ symmetry). See for example <https://journals.aps.org/prd/pdf/10.1103/PhysRevD.102.014505#:~:text=The%20Ising%20model%20has%20a,perturbations%20of%20the%20critical%20point.&text=and%20magnetic%20field%20H%2C%20which,deviation%20from%20the%20critical%20point.> for a discussion.\n",
    "\n",
    "2. The order parameter (e.g. magnetization $M = \\frac{1}{N}\\sum_i s_i$) changes behavior at $T_c$.\n",
    "\n",
    "3. In ferromagnets: $M=0$ for $T>T_c$ (symmetric paramagnet), $M\\neq 0$ for $T<T_c$ (broken symmetry).\n",
    "\n",
    "4. Example: in 2D Ising model, two symmetric ordered states (up/down) below $T_c$."
   ]
  },
  {
   "cell_type": "markdown",
   "id": "2bdceb25",
   "metadata": {
    "editable": true
   },
   "source": [
    "## Phase Transitions: Overview\n",
    "\n",
    "1. **Definition**: A phase transition is characterized by an abrupt, non-analytic change in a macroscopic property of a system as some external parameter (e.g. temperature) is varied . In simpler terms, the system’s state or phase changes dramatically at a critical point.\n",
    "\n",
    "2. **Order Parameter**: Associated with each phase transition is an order parameter – a quantity that is zero in one phase and non-zero in the other. For example, magnetization plays the role of an order parameter in magnetic systems, distinguishing ordered (magnetized) from disordered (unmagnetized) phases.\n",
    "\n",
    "3. **Critical Point**: At the critical temperature (or pressure, etc.), the order parameter changes (continuous or discontinuous) and the system exhibits critical phenomena: large fluctuations, divergence of correlation length, and the onset of scale invariance. Critical points of second-order transitions feature continuous change of the order parameter with characteristic critical exponents and universal behavior across different systems."
   ]
  },
  {
   "cell_type": "markdown",
   "id": "881377f3",
   "metadata": {
    "editable": true
   },
   "source": [
    "## Phase Transitions: First vs Second Order\n",
    "\n",
    "1. **First-Order vs Second-Order**: In a first-order transition, the order parameter changes discontinuously at the transition (often with latent heat), whereas in a second-order (continuous) transition, the order parameter goes to zero continuously at $T_c$, accompanied by diverging susceptibility and correlation length. For example, the liquid–gas transition (at sub-critical pressures) is first-order, while the ferromagnetic transition in the 2D Ising model is second-order (continuous).\n",
    "\n",
    "2. **Example, Potts Model Transitions**: The q-state Potts model generalizes Ising (which is q=2). In 2D, the Potts model undergoes a continuous transition for $q \\le  4$ and a discontinuous (first-order) transition for $q>4$ . This highlights how the nature of the phase transition can change with system parameters.\n",
    "\n",
    "3. **Critical Phenomena**: Near second-order transitions, critical phenomena include power-law divergences (e.g. specific heat, susceptibility), critical opalescence (fluctuations at all scales), and universality (different systems share the same critical exponents if they have the same symmetry and dimensionality). These concepts set the stage for identifying phase transitions through data features (e.g. large fluctuations near $T_c$ might be detectable by learning algorithms)."
   ]
  },
  {
   "cell_type": "markdown",
   "id": "7324c9ae",
   "metadata": {
    "editable": true
   },
   "source": [
    "## Critical Phenomena and Scaling\n",
    "\n",
    "1. Near a continuous transition, observables follow power laws: $M \\sim |T-T_c|^\\beta$, correlation length $\\xi \\sim |T-T_c|^{-\\nu}$, etc.\n",
    "\n",
    "2. **Critical exponents** ($\\alpha,\\beta,\\gamma,\\nu,\\dots$) characterize singular behavior.\n",
    "\n",
    "3. Universality: systems with the same symmetry and dimension share exponents.\n",
    "\n",
    "4. The classical example is the  two-dimensional  Ising exponents known analytically (Onsager).\n",
    "\n",
    "5. At $T\\to T_c$, correlation length $\\xi\\to\\infty$, large-scale fluctuations appear."
   ]
  },
  {
   "cell_type": "markdown",
   "id": "25480c6e",
   "metadata": {
    "editable": true
   },
   "source": [
    "## 2D Ising Model: Definition\n",
    "1. Spins $s_i = \\pm 1$ on a 2D square lattice, nearest-neighbor ferromagnetic coupling.\n",
    "\n",
    "2. Hamiltonian: $H = -J \\sum_{\\langle i,j\\rangle} s_i s_j,$ with $J>0$ favoring alignment.\n",
    "\n",
    "3. Exhibits a second-order phase transition at critical temperature $T_c$.\n",
    "\n",
    "4. Order parameter: magnetization $M = \\frac{1}{N}\\sum_i s_i$.\n",
    "\n",
    "5. Below $T_c$, $M\\neq0$ (ferromagnetic order); above $T_c$, $M=0$ (paramagnet)."
   ]
  },
  {
   "cell_type": "markdown",
   "id": "92da24cc",
   "metadata": {
    "editable": true
   },
   "source": [
    "## 2D Ising Model: Critical Temperature\n",
    "1. Exact result (Onsager): critical point $T_c$ satisfies $T_c \\approx \\frac{2J}{\\ln(1+\\sqrt{2})}\\approx 2.269J$.\n",
    "\n",
    "2. At $T>T_c$: spins are mostly disordered, no net magnetization.\n",
    "\n",
    "3. At $T<T_c$: long-range order develops (nonzero $M$).\n",
    "\n",
    "4. Correlation length $\\xi$ diverges at $T_c$ \n",
    "\n",
    "5. Example: at $T=T_c$ large clusters of aligned spins appear."
   ]
  },
  {
   "cell_type": "markdown",
   "id": "2a7c3866",
   "metadata": {
    "editable": true
   },
   "source": [
    "## q-State Potts Model: Definition\n",
    "* Generalization of Ising: each spin $s_i \\in \\{1,2,\\dots,q\\}$.\n",
    "\n",
    "* Ferromagnetic Potts Hamiltonian:"
   ]
  },
  {
   "cell_type": "markdown",
   "id": "a6797846",
   "metadata": {
    "editable": true
   },
   "source": [
    "$$\n",
    "H = -J \\sum_{\\langle i,j\\rangle} \\delta_{s_i,s_j},\n",
    "$$"
   ]
  },
  {
   "cell_type": "markdown",
   "id": "4964948f",
   "metadata": {
    "editable": true
   },
   "source": [
    "where $\\delta_{a,b}=1$ if $a=b$, else $0$.\n",
    "* If $q=2$, reduces to the Ising model. Higher $q$ allows richer symmetry breaking ($\\mathbb{Z}_q$).\n",
    "\n",
    "* Widely used to study phase transitions with multiple equivalent ordered states."
   ]
  },
  {
   "cell_type": "markdown",
   "id": "f95cf407",
   "metadata": {
    "editable": true
   },
   "source": [
    "## 2D Potts Model: Phase Behavior\n",
    "* In 2D, the ferromagnetic Potts model has a phase transition for all $q\\ge1$ \n",
    "\n",
    "* Exact critical point:"
   ]
  },
  {
   "cell_type": "markdown",
   "id": "a3cafca9",
   "metadata": {
    "editable": true
   },
   "source": [
    "$$\n",
    "\\frac{J}{k_B T_c} = \\ln\\!\\bigl(1+\\sqrt{q}\\bigr).\n",
    "$$"
   ]
  },
  {
   "cell_type": "markdown",
   "id": "6ace7cd9",
   "metadata": {
    "editable": true
   },
   "source": [
    "* The nature of the transition depends on $q$ \n",
    "\n",
    "  * $1 \\le q \\le 4$: continuous (second-order) transition.\n",
    "\n",
    "  * $q > 4$: discontinuous (first-order) transition (latent heat appears).\n",
    "\n",
    "* Example: $q=3,4$ have continuous transitions; $q=5$ and higher show first-order behavior."
   ]
  },
  {
   "cell_type": "markdown",
   "id": "af4ffa07",
   "metadata": {
    "editable": true
   },
   "source": [
    "## Monte Carlo Sampling of Spin Models\n",
    "1. Use Monte Carlo (MC) to generate spin configurations at given $T$: sample from Boltzmann distribution $P\\propto e^{-H/T}$.\n",
    "\n",
    "2. Metropolis algorithm: attempt random single-spin flips to equilibrate the system.\n",
    "\n",
    "3. Provides training data: spin configurations $\\{s_i\\}$ labeled by temperature or phase.\n",
    "\n",
    "4. Ensures statistical equilibrium and detailed balance \n",
    "\n",
    "5. Efficient sampling (especially near $T_c$ cluster algorithms help, e.g.\\ Wolff or Swendsen-Wang)."
   ]
  },
  {
   "cell_type": "markdown",
   "id": "6b56f3bc",
   "metadata": {
    "editable": true
   },
   "source": [
    "## Metropolis Algorithm\n",
    "* Initialize spins randomly or in a fixed state.\n",
    "\n",
    "* Repeat for many steps:\n",
    "\n",
    "a. Pick a random lattice site $i$.\n",
    "\n",
    "b. Propose flipping $s_i \\to -s_i$ (Ising) or change state (Potts).\n",
    "\n",
    "c. Compute energy change $\\Delta E$.\n",
    "\n",
    "d. If $\\Delta E \\le 0$, accept the flip (lower energy).\n",
    "\n",
    "e. Else accept with probability $\\exp(-\\Delta E/T)$ (Boltzmann factor) \n",
    "\n",
    "f. Otherwise, reject and keep the old state.\n",
    "\n",
    "* After equilibration, record configurations as samples."
   ]
  },
  {
   "cell_type": "markdown",
   "id": "7fea8445",
   "metadata": {
    "editable": true
   },
   "source": [
    "## Metropolis Algorithm (Pseudo-code)"
   ]
  },
  {
   "cell_type": "code",
   "execution_count": 1,
   "id": "047ef2d7",
   "metadata": {
    "collapsed": false,
    "editable": true,
    "jupyter": {
     "outputs_hidden": false
    }
   },
   "outputs": [],
   "source": [
    "for T in temperature_list:\n",
    "   # Initialize lattice (e.g., random spins)\n",
    "   config = random_configuration(Lx, Ly)\n",
    "   for step in range(num_steps):\n",
    "       i,j = random_site()\n",
    "       dE = compute_deltaE(config, i, j)  # energy change if spin flipped\n",
    "       if dE <= 0 or rand() < exp(-dE/T):\n",
    "           flip_spin(config, i, j)\n",
    "   record_configuration(config, T)"
   ]
  },
  {
   "cell_type": "markdown",
   "id": "2e4629cf",
   "metadata": {
    "editable": true
   },
   "source": [
    "## Simple code to generate images"
   ]
  },
  {
   "cell_type": "code",
   "execution_count": 3,
   "id": "22858cc2",
   "metadata": {
    "collapsed": false,
    "editable": true,
    "jupyter": {
     "outputs_hidden": false
    }
   },
   "outputs": [
    {
     "data": {
      "image/png": "[encoded data removed]",
      "text/plain": [
       "<Figure size 400x400 with 1 Axes>"
      ]
     },
     "metadata": {},
     "output_type": "display_data"
    },
    {
     "data": {
      "image/png": "[encoded data removed]",
      "text/plain": [
       "<Figure size 400x400 with 1 Axes>"
      ]
     },
     "metadata": {},
     "output_type": "display_data"
    },
    {
     "data": {
      "image/png": "[encoded data removed]",
      "text/plain": [
       "<Figure size 400x400 with 1 Axes>"
      ]
     },
     "metadata": {},
     "output_type": "display_data"
    },
    {
     "data": {
      "image/png": "[encoded data removed]",
      "text/plain": [
       "<Figure size 400x400 with 1 Axes>"
      ]
     },
     "metadata": {},
     "output_type": "display_data"
    },
    {
     "data": {
      "image/png": "[encoded data removed]",
      "text/plain": [
       "<Figure size 400x400 with 1 Axes>"
      ]
     },
     "metadata": {},
     "output_type": "display_data"
    },
    {
     "data": {
      "image/png": "[encoded data removed]",
      "text/plain": [
       "<Figure size 400x400 with 1 Axes>"
      ]
     },
     "metadata": {},
     "output_type": "display_data"
    },
    {
     "data": {
      "text/plain": [
       "'    \\nEach saved image (e.g. ising_T2.0.png) visually depicts the spin\\narrangement at that temperature. The code is easy to extend: changing\\nL, the temperatures list, or n_steps allows different lattice sizes or\\nmore/fewer Monte Carlo sweeps. As expected, low-T images become mostly\\nuniform (a single color, since nearly all spins align), while high-T\\nimages appear random (resembling “TV static”) . Around the critical\\ntemperature (~2.27), one sees a mixture of black and white clusters\\nwith fractal boundaries (as in the figure above) .\\n'"
      ]
     },
     "execution_count": 3,
     "metadata": {},
     "output_type": "execute_result"
    }
   ],
   "source": [
    "%matplotlib inline\n",
    "\n",
    "import numpy as np\n",
    "import matplotlib.pyplot as plt\n",
    "\n",
    "# Parameters\n",
    "L = 50                                 # linear lattice size\n",
    "temperatures = np.arange(2.0, 2.51, 0.1)  # T = 2.0, 2.1, ..., 2.5\n",
    "n_steps = 100000                       # Monte Carlo steps per temperature\n",
    "\n",
    "for T in temperatures:\n",
    "    beta = 1.0 / T\n",
    "    J = 1.0   # coupling strength\n",
    "    # Initialize spins randomly to +1 or -1\n",
    "    spins = np.random.choice([-1, 1], size=(L, L))\n",
    "    \n",
    "    # Metropolis update loop\n",
    "    for step in range(n_steps):\n",
    "        # Pick a random spin (i,j)\n",
    "        i = np.random.randint(0, L)\n",
    "        j = np.random.randint(0, L)\n",
    "        # Compute sum of the four neighbors (with periodic boundary conditions)\n",
    "        total_neighbors = (\n",
    "            spins[(i+1) % L, j] + spins[(i-1) % L, j] +\n",
    "            spins[i, (j+1) % L] + spins[i, (j-1) % L]\n",
    "        )\n",
    "        # Energy change for flipping this spin\n",
    "        dE = 2 * J * spins[i, j] * total_neighbors\n",
    "        # Metropolis criterion: accept flip if dE <= 0 or with prob. exp(-dE*beta)\n",
    "        if dE <= 0 or np.random.rand() < np.exp(-beta * dE):\n",
    "            spins[i, j] *= -1\n",
    "\n",
    "    # Plot the final spin configuration\n",
    "    plt.figure(figsize=(4, 4))\n",
    "    # Use a grayscale colormap: -1 will map to black, +1 to white (vmin/vmax)\n",
    "    plt.imshow(spins, cmap='gray', vmin=-1, vmax=1)\n",
    "    plt.title(f'Ising Lattice (T = {T:.1f})')\n",
    "    plt.axis('off')\n",
    "    plt.savefig(f'ising_T{T:.1f}.png', dpi=150)\n",
    "    plt.show()\n",
    "    plt.close()\n",
    "\n",
    "\"\"\"    \n",
    "Each saved image (e.g. ising_T2.0.png) visually depicts the spin\n",
    "arrangement at that temperature. The code is easy to extend: changing\n",
    "L, the temperatures list, or n_steps allows different lattice sizes or\n",
    "more/fewer Monte Carlo sweeps. As expected, low-T images become mostly\n",
    "uniform (a single color, since nearly all spins align), while high-T\n",
    "images appear random (resembling “TV static”) . Around the critical\n",
    "temperature (~2.27), one sees a mixture of black and white clusters\n",
    "with fractal boundaries (as in the figure above) .\n",
    "\"\"\""
   ]
  },
  {
   "cell_type": "markdown",
   "id": "b9c30582",
   "metadata": {
    "editable": true
   },
   "source": [
    "## Monte Carlo Data for ML\n",
    "1. Generate many spin configurations across a range of temperatures $T$.\n",
    "\n",
    "2. Label each configuration by its temperature or by phase (ordered/disordered).\n",
    "\n",
    "3. This labeled dataset is used for \\emph{supervised} methods (e.g.\\ CNN).\n",
    "\n",
    "4. For \\emph{unsupervised} methods (PCA, VAE), labels are not used in training.\n",
    "\n",
    "5. Data augmentation: one can use symmetries (e.g.\\ spin flip) to enlarge dataset."
   ]
  },
  {
   "cell_type": "markdown",
   "id": "8927a1de",
   "metadata": {
    "editable": true
   },
   "source": [
    "## Principal Component Analysis (PCA) Basics\n",
    "\n",
    "1. PCA is an unsupervised method for dimensionality reduction.\n",
    "\n",
    "2. Finds orthogonal directions (principal components) of maximum variance in data.\n",
    "\n",
    "3. Project data onto the first few PCs to visualize structure.\n",
    "\n",
    "4. Advantages: linear, fast, and interpretable (PCs are linear combinations of features).\n",
    "\n",
    "5. Disadvantage: only captures linear correlations (may miss complex features)."
   ]
  },
  {
   "cell_type": "markdown",
   "id": "9565debf",
   "metadata": {
    "editable": true
   },
   "source": [
    "## PCA for Phase Identification\n",
    "1. Apply PCA to the ensemble of spin configurations (flattened to vectors).\n",
    "\n",
    "2. The first principal component (PC1) often correlates with the order parameter (e.g.\\ magnetization).\n",
    "\n",
    "3. Hu et al. (2017) found PCA distinguishes different phases and can locate critical points \n",
    "\n",
    "4. By plotting data in the subspace of PCs, one sees separation of low-$T$ (ordered) vs high-$T$ (disordered) points.\n",
    "\n",
    "5. No labels needed: phase transitions are revealed by clustering in PC space"
   ]
  },
  {
   "cell_type": "markdown",
   "id": "e270645b",
   "metadata": {
    "editable": true
   },
   "source": [
    "## PCA Workflow for Spin Data\n",
    "\n",
    "1. Collect data matrix $X$ of shape (num\\_samples) $\\times$ (num\\_features), e.g. $N\\times (L\\times L)$.\n",
    "\n",
    "2. Subtract the mean from each column (feature) of $X$.\n",
    "\n",
    "3. Compute covariance matrix $C = X^T X$ (or use SVD on $X$ directly).\n",
    "\n",
    "4. Obtain eigenvalues/vectors of $C$: $C = U \\Lambda U^T$. Columns of $U$ are principal directions.\n",
    "\n",
    "5. Sort by eigenvalues (variance). Project $X$ onto top $k$ PCs: $X_{\\rm red} = X\\,U[:,1:k]$.\n",
    "\n",
    "6. Analyze $X_{\\rm red}$: e.g. scatter plot PC1 vs PC2."
   ]
  },
  {
   "cell_type": "markdown",
   "id": "3a607eb7",
   "metadata": {
    "editable": true
   },
   "source": [
    "## PCA Example: Ising Model\n",
    "\n",
    "1. In the 2D Ising model, PC1 is essentially proportional to the overall magnetization.\n",
    "\n",
    "2. At $T<T_c$, configurations cluster with large positive or negative PC1 (ordered states).\n",
    "\n",
    "3. At $T>T_c$, configurations cluster near $PC1 \\approx 0$ (disordered).\n",
    "\n",
    "4. The variance captured by PC1 drops sharply at $T_c$, signaling the transition.\n",
    "\n",
    "5. PCA automatically finds these features, without knowing the physics a priori."
   ]
  },
  {
   "cell_type": "markdown",
   "id": "617ab1a0",
   "metadata": {
    "editable": true
   },
   "source": [
    "## PCA Limitations\n",
    "1. PCA is linear: complex nonlinear features (e.g.\\ vortex order) may not be captured.\n",
    "\n",
    "2. Example: In a frustrated 2D spin model, PCA failed to detect certain correlations (vorticity) \n",
    "\n",
    "3. PCA does not directly classify; it provides features for clustering or visualization.\n",
    "\n",
    "4. Sensitive to scaling: data should be normalized appropriately.\n",
    "\n",
    "5. Still useful as a first-pass: identifies the most significant variations"
   ]
  },
  {
   "cell_type": "markdown",
   "id": "9443d5d7",
   "metadata": {
    "editable": true
   },
   "source": [
    "## Convolutional Neural Networks (CNNs)\n",
    "\n",
    "1. CNNs are deep neural networks designed for spatial data (e.g. images).\n",
    "\n",
    "2. Architecture: convolutional layers (feature detectors) + pooling, followed by fully connected layers.\n",
    "\n",
    "3. In physics: treat spin lattice as an image with multiple channels (e.g.\\ one channel of spins).\n",
    "\n",
    "4. CNNs can learn complex nonlinear features automatically from data.\n",
    "\n",
    "5. They require labeled examples for training (supervised learning)."
   ]
  },
  {
   "cell_type": "markdown",
   "id": "38682fe2",
   "metadata": {
    "editable": true
   },
   "source": [
    "## CNN for Phase Classification\n",
    "1. Prepare training data: spin configurations labeled by phase or temperature.\n",
    "\n",
    "2. CNN learns to map configuration $\\to$ phase label (ordered/disordered) or predict $T$.\n",
    "\n",
    "3. As shown by Carrasquilla and Melko (2017), CNNs can identify phases from raw states \n",
    "\n",
    "4. Achieves high accuracy on Ising and other models when training labels are available.\n",
    "\n",
    "5. CNNs exploit locality: can detect clusters or domains of aligned spins via convolution filters."
   ]
  },
  {
   "cell_type": "markdown",
   "id": "332a4bfe",
   "metadata": {
    "editable": true
   },
   "source": [
    "## Example CNN Architecture\n",
    "1. **Input**: single-channel $L\\times L$ lattice (values $-1$ or $+1$).\n",
    "\n",
    "2. **Conv layer 1**: e.g.\\ 8 filters of size $3\\times3$, ReLU activation, stride=1, padding=1.\n",
    "\n",
    "3. **Conv layer 2**: 16 filters of size $3\\times3$, ReLU, followed by a $2\\times2$ max-pooling.\n",
    "\n",
    "4. **Fully Connected**: flatten feature maps to vector; FC layer to 64 units (ReLU); final FC to 2 outputs (softmax for binary phase).\n",
    "\n",
    "5. **Training**: minimize cross-entropy loss between predicted and true labels.\n",
    "\n",
    "6. **Note**: architecture and hyperparameters can be tuned for best performance."
   ]
  },
  {
   "cell_type": "markdown",
   "id": "38ff9588",
   "metadata": {
    "editable": true
   },
   "source": [
    "## CNN: Training and Results\n",
    "1. Train on many labeled samples (e.g.\\ temperatures $T$ and whether $T<T_c$ or $T>T_c$).\n",
    "\n",
    "2. The network learns features such as magnetization domains, energy patterns, etc.\n",
    "\n",
    "3. CNN accuracy can be very high (often $\\sim$100\\% on clean data) for distinguishing phases.\n",
    "\n",
    "4. Fukushima and Sakai (2021): a CNN trained on 2D Ising can detect transition in $q$-state Potts \n",
    "\n",
    "5. CNN behavior: at high $T$ it effectively uses average energy; at low $T$ it correlates with magnetization"
   ]
  },
  {
   "cell_type": "markdown",
   "id": "eab67479",
   "metadata": {
    "editable": true
   },
   "source": [
    "## CNN Interpretability\n",
    "1. CNNs are often seen as **black boxes**, but their learned filters can sometimes be interpreted.\n",
    "\n",
    "2. Outputs correlate with known physics:\n",
    "\n",
    "a. At low $T$: classification heavily influenced by magnetization (order).\n",
    "\n",
    "b. At high $T$: classification influenced by internal energy (disorder) \n",
    "\n",
    "3. CNNs can generalize: e.g.\\ Ising-trained CNN finds Potts $T_c$ \n",
    "\n",
    "4. Visualization methods (e.g.\\ saliency maps) can highlight what CNN focuses on."
   ]
  },
  {
   "cell_type": "markdown",
   "id": "72d79845",
   "metadata": {
    "editable": true
   },
   "source": [
    "## CNN (PyTorch) Code Example"
   ]
  },
  {
   "cell_type": "code",
   "execution_count": 3,
   "id": "7fb3f959",
   "metadata": {
    "collapsed": false,
    "editable": true,
    "jupyter": {
     "outputs_hidden": false
    }
   },
   "outputs": [],
   "source": [
    "import torch\n",
    "import torch.nn as nn\n",
    "import torch.nn.functional as F\n",
    "\n",
    "class PhaseCNN(nn.Module):\n",
    "   def __init__(self, L):\n",
    "       super(PhaseCNN, self).__init__()\n",
    "       self.conv1 = nn.Conv2d(1, 8, kernel_size=3, padding=1)  # 1 channel -> 8\n",
    "       self.conv2 = nn.Conv2d(8, 16, kernel_size=3, padding=1) # 8 -> 16\n",
    "       self.pool = nn.MaxPool2d(2)  # downsample by 2\n",
    "       self.fc1 = nn.Linear(16 * (L//2) * (L//2), 64)\n",
    "       self.fc2 = nn.Linear(64, 2)  # 2 output classes\n",
    "\n",
    "   def forward(self, x):\n",
    "       x = F.relu(self.conv1(x))      # (B,8,L,L)\n",
    "       x = self.pool(F.relu(self.conv2(x)))  # (B,16,L/2,L/2)\n",
    "       x = x.view(x.size(0), -1)      # flatten\n",
    "       x = F.relu(self.fc1(x))\n",
    "       x = self.fc2(x)               # logits for 2 classes\n",
    "       return x\n",
    "\n",
    "# Example usage:\n",
    "model = PhaseCNN(L=32)           # for a 32x32 lattice\n",
    "criterion = nn.CrossEntropyLoss()\n",
    "optimizer = torch.optim.Adam(model.parameters(), lr=1e-3)"
   ]
  },
  {
   "cell_type": "markdown",
   "id": "1e9537ff",
   "metadata": {
    "editable": true
   },
   "source": [
    "## Code to read in Ising data"
   ]
  },
  {
   "cell_type": "code",
   "execution_count": 4,
   "id": "a0ac2338",
   "metadata": {
    "collapsed": false,
    "editable": true,
    "jupyter": {
     "outputs_hidden": false
    }
   },
   "outputs": [],
   "source": [
    "\"\"\"\n",
    "Loads PNG spin images (ising_T2.0.png, …, ising_T2.5.png).\n",
    "Labels them as:\n",
    "0 if T < 2.27 (below critical temperature)\n",
    "1 if T \\geq 2.27 (above critical temperature)\n",
    "\n",
    "Defines a small CNN classifier.\n",
    "Trains and evaluates the classifier.\n",
    "\"\"\"\n",
    "import os\n",
    "import torch\n",
    "import torch.nn as nn\n",
    "import torch.optim as optim\n",
    "from torchvision import transforms\n",
    "from torch.utils.data import Dataset, DataLoader, random_split\n",
    "from PIL import Image\n",
    "import matplotlib.pyplot as plt\n",
    "\n",
    "# Directory where Ising model images are stored\n",
    "image_dir = './'  # adjust path if needed\n",
    "critical_temp = 2.27\n",
    "\n",
    "# Custom Dataset\n",
    "class IsingDataset(Dataset):\n",
    "    def __init__(self, root_dir, transform=None):\n",
    "        self.root_dir = root_dir\n",
    "        self.image_files = sorted([f for f in os.listdir(root_dir) if f.startswith(\"ising_T\") and f.endswith(\".png\")])\n",
    "        self.transform = transform\n",
    "\n",
    "    def __len__(self):\n",
    "        return len(self.image_files)\n",
    "\n",
    "    def __getitem__(self, idx):\n",
    "        file = self.image_files[idx]\n",
    "        T = float(file.split(\"T\")[1].replace(\".png\", \"\"))\n",
    "        label = 0 if T < critical_temp else 1\n",
    "\n",
    "        image = Image.open(os.path.join(self.root_dir, file)).convert(\"L\")  # grayscale\n",
    "\n",
    "        if self.transform:\n",
    "            image = self.transform(image)\n",
    "\n",
    "        return image, label\n",
    "\n",
    "# Transforms\n",
    "transform = transforms.Compose([\n",
    "    transforms.Resize((50, 50)),\n",
    "    transforms.ToTensor(),  # shape (1, H, W), values in [0,1]\n",
    "])\n",
    "\n",
    "# Dataset and Dataloader\n",
    "dataset = IsingDataset(image_dir, transform=transform)\n",
    "train_size = int(0.8 * len(dataset))\n",
    "test_size = len(dataset) - train_size\n",
    "train_dataset, test_dataset = random_split(dataset, [train_size, test_size])\n",
    "\n",
    "train_loader = DataLoader(train_dataset, batch_size=8, shuffle=True)\n",
    "test_loader = DataLoader(test_dataset, batch_size=8, shuffle=False)\n",
    "\n",
    "# CNN Model\n",
    "class CNN(nn.Module):\n",
    "    def __init__(self):\n",
    "        super(CNN, self).__init__()\n",
    "        self.net = nn.Sequential(\n",
    "            nn.Conv2d(1, 16, 3, padding=1),\n",
    "            nn.ReLU(),\n",
    "            nn.MaxPool2d(2),\n",
    "            nn.Conv2d(16, 32, 3, padding=1),\n",
    "            nn.ReLU(),\n",
    "            nn.MaxPool2d(2),\n",
    "            nn.Flatten(),\n",
    "            nn.Linear(32 * 12 * 12, 64),\n",
    "            nn.ReLU(),\n",
    "            nn.Linear(64, 2)\n",
    "        )\n",
    "\n",
    "    def forward(self, x):\n",
    "        return self.net(x)\n",
    "\n",
    "# Instantiate and train\n",
    "device = torch.device(\"cuda\" if torch.cuda.is_available() else \"cpu\")\n",
    "model = CNN().to(device)\n",
    "optimizer = optim.Adam(model.parameters(), lr=0.001)\n",
    "loss_fn = nn.CrossEntropyLoss()\n",
    "\n",
    "# Training loop\n",
    "num_epochs = 10\n",
    "for epoch in range(num_epochs):\n",
    "    model.train()\n",
    "    total_loss = 0\n",
    "    for images, labels in train_loader:\n",
    "        images, labels = images.to(device), labels.to(device)\n",
    "        outputs = model(images)\n",
    "        loss = loss_fn(outputs, labels)\n",
    "\n",
    "        optimizer.zero_grad()\n",
    "        loss.backward()\n",
    "        optimizer.step()\n",
    "        total_loss += loss.item()\n",
    "\n",
    "    print(f\"Epoch {epoch+1}/{num_epochs}, Loss: {total_loss/len(train_loader):.4f}\")\n",
    "\n",
    "# Evaluation\n",
    "model.eval()\n",
    "correct = 0\n",
    "total = 0\n",
    "with torch.no_grad():\n",
    "    for images, labels in test_loader:\n",
    "        images, labels = images.to(device), labels.to(device)\n",
    "        outputs = model(images)\n",
    "        _, predicted = torch.max(outputs.data, 1)\n",
    "        total += labels.size(0)\n",
    "        correct += (predicted == labels).sum().item()\n",
    "\n",
    "print(f\"Test Accuracy: {100 * correct / total:.2f}%\")"
   ]
  },
  {
   "cell_type": "markdown",
   "id": "90a856be",
   "metadata": {
    "editable": true
   },
   "source": [
    "## Variational Autoencoders (VAE) Overview\n",
    "\n",
    "1. A VAE is an \\emph{unsupervised} generative model that learns a latent representation of data.\n",
    "\n",
    "2. Components:\n",
    "\n",
    "a. **Encoder**: maps input $X$ to parameters $(\\mu, \\log\\sigma^2)$ of a latent Gaussian.\n",
    "\n",
    "b. **Latent** $z$: sampled via $z = \\mu + \\sigma \\epsilon$ ($\\epsilon\\sim N(0,I)$).\n",
    "\n",
    "c. **Decoder**: reconstructs input $\\hat{X}$ from $z$.\n",
    "\n",
    "4. Loss: reconstruction error + KL divergence to enforce latent prior $\\mathcal{N}(0,I)$.\n",
    "\n",
    "5. VAEs can both encode data compactly and generate new samples by sampling $z$."
   ]
  },
  {
   "cell_type": "markdown",
   "id": "99c28f41",
   "metadata": {
    "editable": true
   },
   "source": [
    "## VAE for Spin Configurations\n",
    "\n",
    "1. Train VAE on spin configurations (no labels).\n",
    "\n",
    "2. Latent space (usually low-dimensional) captures key features (like order parameter).\n",
    "\n",
    "3. Walker et al. (2020): latent variables provide metrics to track order vs disorder in Ising \n",
    "\n",
    "4. They found the latent representation closely corresponds to physical order (magnetization) \n",
    "\n",
    "5. After training, one can:\n",
    "\n",
    "a. Inspect latent space (e.g.\\ scatter plot of $(\\mu_1,\\mu_2)$) to distinguish phases.\n",
    "\n",
    "b. Sample $z\\sim N(0,1)$ and decode to generate synthetic configurations."
   ]
  },
  {
   "cell_type": "markdown",
   "id": "7d917c8c",
   "metadata": {
    "editable": true
   },
   "source": [
    "## VAE Architecture Details\n",
    "\n",
    "* Typically use convolutional encoder/decoder for 2D structure.\n",
    "\n",
    "* Example:\n",
    "\n",
    "a. Encoder: conv layers downsampling to a flat vector $\\rightarrow$ linear layers $\\rightarrow (\\mu, \\log\\sigma^2)$ (size of latent space, e.g.\\ 2–10 dims).\n",
    "\n",
    "b. Decoder: linear layer from $z$ to feature map size, followed by transposed-conv layers to reconstruct $L\\times L$ lattice.\n",
    "\n",
    "* Activation: ReLU (or LeakyReLU); final output often sigmoid to model spin distribution.\n",
    "\n",
    "* Training with minibatch gradient descent optimizing"
   ]
  },
  {
   "cell_type": "markdown",
   "id": "eaa314bb",
   "metadata": {
    "editable": true
   },
   "source": [
    "$$\n",
    "\\mathcal{L} = \\mathbb{E}[\\|X - \\hat{X}\\|^2] +\n",
    "       \\mathrm{KL}(\\mathcal{N}(\\mu,\\sigma)\\,\\|\\,\\mathcal{N}(0,1)).\n",
    "$$"
   ]
  },
  {
   "cell_type": "markdown",
   "id": "b58b9e8c",
   "metadata": {
    "editable": true
   },
   "source": [
    "## VAE Results on Ising Model\n",
    "\n",
    "1. The first latent dimension ($\\nu_0$) learned by the VAE correlated strongly with magnetization \n",
    "\n",
    "2. Plotting $\\nu_0$ vs temperature shows clear change around $T_c$ (order–disorder).\n",
    "\n",
    "3. This means VAE \"discovered\" the order parameter without supervision.\n",
    "\n",
    "4. The VAE predicted the critical region and crossover consistently with theory \n",
    "\n",
    "5. Latent space clustering: ordered-phase points separate from disordered."
   ]
  },
  {
   "cell_type": "markdown",
   "id": "727a771b",
   "metadata": {
    "editable": true
   },
   "source": [
    "## VAE: Generation and Interpretation\n",
    "\n",
    "1. After training, sample random $z$ from Gaussian prior and decode to generate configurations.\n",
    "\n",
    "2. The VAE latent space is continuous: can interpolate between phases.\n",
    "\n",
    "3. The learned representation is smooth and disentangled: one latent coordinate tracks magnetization, others track disorder.\n",
    "\n",
    "4. VAEs can also be used for anomaly detection: points with unusual $z$ indicate atypical states.\n",
    "\n",
    "5. Overall, VAEs provide both a dimensionally-reduced view of phase structure and a generative model."
   ]
  },
  {
   "cell_type": "markdown",
   "id": "ad60be27",
   "metadata": {
    "editable": true
   },
   "source": [
    "## VAE (PyTorch) Code Example"
   ]
  },
  {
   "cell_type": "code",
   "execution_count": 5,
   "id": "c98c2555",
   "metadata": {
    "collapsed": false,
    "editable": true,
    "jupyter": {
     "outputs_hidden": false
    }
   },
   "outputs": [],
   "source": [
    "import torch\n",
    "import torch.nn as nn\n",
    "import torch.nn.functional as F\n",
    "\n",
    "class VAE(nn.Module):\n",
    "   def __init__(self, L, latent_dim=2):\n",
    "       super(VAE, self).__init__()\n",
    "       # Encoder: conv -> conv -> flatten -> fc_mu/fc_logvar\n",
    "       self.encoder = nn.Sequential(\n",
    "           nn.Conv2d(1, 8, 3, stride=2, padding=1),   # -> (8, L/2, L/2)\n",
    "           nn.ReLU(),\n",
    "           nn.Conv2d(8, 16, 3, stride=2, padding=1),  # -> (16, L/4, L/4)\n",
    "           nn.ReLU(),\n",
    "           nn.Flatten()\n",
    "       )\n",
    "       self.fc_mu = nn.Linear(16*(L//4)*(L//4), latent_dim)\n",
    "       self.fc_logvar = nn.Linear(16*(L//4)*(L//4), latent_dim)\n",
    "\n",
    "       # Decoder: linear -> unflatten -> convTranspose -> convTranspose\n",
    "       self.decoder_fc = nn.Linear(latent_dim, 16*(L//4)*(L//4))\n",
    "       self.decoder = nn.Sequential(\n",
    "           nn.Unflatten(1, (16, L//4, L//4)),\n",
    "           nn.ConvTranspose2d(16, 8, 3, stride=2, padding=1, output_padding=1),  # -> (8, L/2, L/2)\n",
    "           nn.ReLU(),\n",
    "           nn.ConvTranspose2d(8, 1, 3, stride=2, padding=1, output_padding=1),   # -> (1, L, L)\n",
    "           nn.Sigmoid()\n",
    "       )\n",
    "\n",
    "   def encode(self, x):\n",
    "       h = self.encoder(x)\n",
    "       mu = self.fc_mu(h)\n",
    "       logvar = self.fc_logvar(h)\n",
    "       return mu, logvar\n",
    "\n",
    "   def reparameterize(self, mu, logvar):\n",
    "       std = torch.exp(0.5*logvar)\n",
    "       eps = torch.randn_like(std)\n",
    "       return mu + eps * std\n",
    "\n",
    "   def decode(self, z):\n",
    "       h = self.decoder_fc(z)\n",
    "       x_recon = self.decoder(h)\n",
    "       return x_recon\n",
    "\n",
    "   def forward(self, x):\n",
    "       mu, logvar = self.encode(x)\n",
    "       z = self.reparameterize(mu, logvar)\n",
    "       x_recon = self.decode(z)\n",
    "       return x_recon, mu, logvar\n",
    "\n",
    "# Example instantiation:\n",
    "model = VAE(L=32, latent_dim=2)\n",
    "optimizer = torch.optim.Adam(model.parameters(), lr=1e-3)"
   ]
  },
  {
   "cell_type": "markdown",
   "id": "d07f05b8",
   "metadata": {
    "editable": true
   },
   "source": [
    "## Supervised vs Unsupervised Methods\n",
    "\n",
    "1. **Supervised (CNN)**: Requires labeled data (phase labels or temperatures). Learns a direct mapping $\\{\\text{config}\\}\\to\\{\\text{phase}\\}$.\n",
    "\n",
    "2. **Unsupervised (PCA, VAE)**: Uses only the raw configurations without labels. Learns features or representations of the data.\n",
    "\n",
    "3. PCA reduces dimensionality; requires no training labels \n",
    "\n",
    "4. VAE learns a latent generative model; also label-free \n",
    "\n",
    "5. CNN typically achieves higher accuracy in classifying known phases, but needs supervised labels."
   ]
  },
  {
   "cell_type": "markdown",
   "id": "000cea1b",
   "metadata": {
    "editable": true
   },
   "source": [
    "## Method Interpretability and Features\n",
    "\n",
    "1. **PCA**: Principal components often have clear physical meaning (e.g.\\ PC1 and  magnetization) \n",
    "\n",
    "2. **CNN**: Filters are less directly interpretable; features are learned. However, some correlation with physics (energy, $M$) emerges \n",
    "\n",
    "3. **VAE**: Latent variables can often be interpreted as order/disorder features (e.g. one latent is approximately equal to the  magnetization) \n",
    "\n",
    "4. CNN is a \"black box\" classifier; PCA/VAE provide insight into data structure.\n",
    "\n",
    "5. In terms of visualization: PCA and VAE produce low-dim plots of data (semi-transparent), whereas CNN only outputs a decision boundary."
   ]
  },
  {
   "cell_type": "markdown",
   "id": "f40c52bf",
   "metadata": {
    "editable": true
   },
   "source": [
    "## Performance and Use Cases\n",
    "\n",
    "1. **PCA**: Fast to compute; good for preliminary analysis of large datasets. Best for linearizable transitions.\n",
    "\n",
    "2. **CNN**: High classification accuracy; powerful for large and complex datasets. Can predict critical $T$ or classify multiple phases \n",
    "\n",
    "3. **VAE**: Useful when no labels are available; provides a generative model. Effective in detecting transitions by latent statistics \n",
    "\n",
    "4. Computational cost: PCA very cheap, CNN and VAE require training time (GPU recommended for large data).\n",
    "\n",
    "5. Choosing a method: depends on data availability and goal (classification vs insight vs generation)."
   ]
  },
  {
   "cell_type": "markdown",
   "id": "5543b89e",
   "metadata": {
    "editable": true
   },
   "source": [
    "## Summary of Methods\n",
    "1. **PCA**: Unsupervised, linear, interpretable. Good for dimensionality reduction and initial exploration\n",
    "\n",
    "2. **CNN**: Supervised, non-linear, high accuracy. Requires labels, but learns complex features (works across models \n",
    "\n",
    "3. **VAE**: Unsupervised, generative. Learns latent representation reflecting order/disorder \n",
    "\n",
    "4. Each method has trade-offs in accuracy, interpretability, and data requirements.\n",
    "\n",
    "5. Combining methods (e.g.\\ using PCA or VAE features as input to another classifier) can also be fruitful."
   ]
  },
  {
   "cell_type": "markdown",
   "id": "a2486d30",
   "metadata": {
    "editable": true
   },
   "source": [
    "## Conclusions\n",
    "1. Machine learning provides powerful tools for studying phase transitions in statistical models.\n",
    "\n",
    "2. *Unsupervised* methods (PCA, VAE) can discover phase structure without labels \n",
    "\n",
    "3. *Supervised* methods (CNNs) achieve high classification performance given labeled data \n",
    "\n",
    "4. Interpretability: PCA/VAE offer more insight into physics (latent/PC represent order parameters), while CNNs focus on prediction accuracy.\n",
    "\n",
    "5. Choice of method depends on the problem: data availability, need for generative modeling, and interpretability.\n",
    "\n",
    "6. Future directions: deeper architectures (e.g.\\ ResNets), unsupervised generative flows, transfer learning across models, real experimental data."
   ]
  },
  {
   "cell_type": "markdown",
   "id": "3e80daa1",
   "metadata": {
    "editable": true
   },
   "source": [
    "## References\n",
    "1. Carrasquilla, J. and Melko, R. G., *Machine learning phases of matter*, Nature Physics {\\bf 13}, 431–434 (2017), see <https://www.nature.com/articles/nphys4035>\n",
    "\n",
    "2. Hu, W. \\textit{et al.}, *Discovering phases, phase transitions through unsupervised ML*, Phys. Rev. E {\\bf 95}, 062122 (2017), see <https://journals.aps.org/pre/abstract/10.1103/PhysRevE.95.062122> \n",
    "\n",
    "3. Fukushima, K. and Sakai, K., *Can a CNN trained on Ising detect Potts?* Prog. Theor. Exp. Phys. 061A01 (2021), see <https://academic.oup.com/ptep/article/2021/6/061A01/6270799?login=false> \n",
    "\n",
    "4. Walker, N. \\textit{et al.}, *2D Ising model crossover via VAE*, Sci. Rep. {\\bf 10}, 13047 (2020), see <https://www.nature.com/articles/s41598-020-69848-5>\n",
    "\n",
    "5. Bachtis, D. \\textit{et al.}, *Mapping distinct phase transitions to a neural network*, Phys. Rev. E {\\bf 102}, 053306 (2020), see <https://journals.aps.org/pre/abstract/10.1103/PhysRevE.102.053306>"
   ]
  }
 ],
 "metadata": {
  "kernelspec": {
   "display_name": "Python 3 (ipykernel)",
   "language": "python",
   "name": "python3"
  },
  "language_info": {
   "codemirror_mode": {
    "name": "ipython",
    "version": 3
   },
   "file_extension": ".py",
   "mimetype": "text/x-python",
   "name": "python",
   "nbconvert_exporter": "python",
   "pygments_lexer": "ipython3",
   "version": "3.9.15"
  }
 },
 "nbformat": 4,
 "nbformat_minor": 5
}
