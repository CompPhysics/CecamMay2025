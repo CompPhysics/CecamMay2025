{
 "cells": [
  {
   "cell_type": "markdown",
   "id": "6a36f0b1",
   "metadata": {},
   "source": [
    "# Classification of Phase Transitions using Machine Learning\n",
    "\n",
    "This notebook explores the Ising and Potts models using PyTorch and classifies phase transitions with neural networks."
   ]
  },
  {
   "cell_type": "code",
   "execution_count": 1,
   "id": "6b53daf0",
   "metadata": {},
   "outputs": [],
   "source": [
    "import torch\n",
    "import torch.nn as nn\n",
    "import torch.nn.functional as F\n",
    "import matplotlib.pyplot as plt\n",
    "import numpy as np"
   ]
  },
  {
   "cell_type": "markdown",
   "id": "f1923949",
   "metadata": {},
   "source": [
    "## Ising Model Simulation"
   ]
  },
  {
   "cell_type": "code",
   "execution_count": 2,
   "id": "c82a9962",
   "metadata": {},
   "outputs": [],
   "source": [
    "def local_energy(config, i, j):\n",
    "    L = config.shape[0]\n",
    "    spin = config[i, j]\n",
    "    neighbors = config[(i+1)%L, j] + config[(i-1)%L, j] + \\\n",
    "                config[i, (j+1)%L] + config[i, (j-1)%L]\n",
    "    return -spin * neighbors\n",
    "\n",
    "def metropolis_step(config, beta):\n",
    "    L = config.shape[0]\n",
    "    for _ in range(L * L):\n",
    "        i, j = torch.randint(0, L, (2,))\n",
    "        dE = 2 * local_energy(config, i, j)\n",
    "        if dE <= 0 or torch.rand(1) < torch.exp(-beta * dE):\n",
    "            config[i, j] *= -1\n",
    "    return config"
   ]
  },
  {
   "cell_type": "markdown",
   "id": "7694546e",
   "metadata": {},
   "source": [
    "## Potts Model Simulation"
   ]
  },
  {
   "cell_type": "code",
   "execution_count": 3,
   "id": "d5f081f4",
   "metadata": {},
   "outputs": [],
   "source": [
    "def metropolis_potts_step(config, beta, q):\n",
    "    L = config.shape[0]\n",
    "    for _ in range(L * L):\n",
    "        i, j = torch.randint(0, L, (2,))\n",
    "        old_state = config[i, j].item()\n",
    "        new_state = torch.randint(0, q, (1,)).item()\n",
    "        while new_state == old_state:\n",
    "            new_state = torch.randint(0, q, (1,)).item()\n",
    "        delta_E = 0\n",
    "        for dx, dy in [(-1,0), (1,0), (0,-1), (0,1)]:\n",
    "            ni, nj = (i + dx) % L, (j + dy) % L\n",
    "            delta_E += int(config[ni, nj] == old_state) - int(config[ni, nj] == new_state)\n",
    "        if delta_E <= 0 or torch.rand(1).item() < torch.exp(-beta * delta_E):\n",
    "            config[i, j] = new_state\n",
    "    return config"
   ]
  },
  {
   "cell_type": "markdown",
   "id": "e7dba8ed",
   "metadata": {},
   "source": [
    "## Observables (Energy and Magnetization)"
   ]
  },
  {
   "cell_type": "code",
   "execution_count": 4,
   "id": "8c17c3ec",
   "metadata": {},
   "outputs": [],
   "source": [
    "def compute_ising_observables(config):\n",
    "    L = config.shape[0]\n",
    "    E, M = 0.0, config.sum().item()\n",
    "    for i in range(L):\n",
    "        for j in range(L):\n",
    "            S = config[i, j]\n",
    "            neighbors = config[(i+1)%L, j] + config[i, (j+1)%L]\n",
    "            E -= S * neighbors\n",
    "    return E / (L*L), M / (L*L)"
   ]
  },
  {
   "cell_type": "markdown",
   "id": "148810fa",
   "metadata": {},
   "source": [
    "## CNN Classifier"
   ]
  },
  {
   "cell_type": "code",
   "execution_count": 5,
   "id": "864d2eec",
   "metadata": {},
   "outputs": [],
   "source": [
    "class PhaseClassifier(nn.Module):\n",
    "    def __init__(self):\n",
    "        super().__init__()\n",
    "        self.conv1 = nn.Conv2d(1, 32, 3, padding=1)\n",
    "        self.conv2 = nn.Conv2d(32, 64, 3, padding=1)\n",
    "        self.fc1 = nn.Linear(64 * 8 * 8, 128)\n",
    "        self.fc2 = nn.Linear(128, 2)\n",
    "\n",
    "    def forward(self, x):\n",
    "        x = F.relu(self.conv1(x))\n",
    "        x = F.max_pool2d(x, 2)\n",
    "        x = F.relu(self.conv2(x))\n",
    "        x = F.max_pool2d(x, 2)\n",
    "        x = x.view(x.size(0), -1)\n",
    "        x = F.relu(self.fc1(x))\n",
    "        return self.fc2(x)"
   ]
  },
  {
   "cell_type": "markdown",
   "id": "ae33a632",
   "metadata": {},
   "source": [
    "## Visualization of Magnetization"
   ]
  },
  {
   "cell_type": "code",
   "execution_count": 6,
   "id": "3d737391",
   "metadata": {},
   "outputs": [],
   "source": [
    "def plot_magnetization(T_vals, mags):\n",
    "    mags = torch.tensor(mags).reshape(len(T_vals), -1)\n",
    "    avg_mag = mags.abs().mean(dim=1)\n",
    "    plt.plot(T_vals, avg_mag)\n",
    "    plt.xlabel(\"Temperature T\")\n",
    "    plt.ylabel(\"Magnetization |M|\")\n",
    "    plt.title(\"Order Parameter vs Temperature\")\n",
    "    plt.grid(True)\n",
    "    plt.show()"
   ]
  },
  {
   "cell_type": "markdown",
   "id": "39e3e493",
   "metadata": {},
   "source": [
    "## Generate Dataset (Ising model)"
   ]
  },
  {
   "cell_type": "code",
   "execution_count": 7,
   "id": "7cefb5eb",
   "metadata": {},
   "outputs": [],
   "source": [
    "def generate_ising_dataset(L, T_vals, n_samples):\n",
    "    data, labels = [], []\n",
    "    for T in T_vals:\n",
    "        beta = 1.0 / T\n",
    "        for _ in range(n_samples):\n",
    "            config = torch.randint(0, 2, (L, L)) * 2 - 1\n",
    "            for _ in range(100):\n",
    "                config = metropolis_step(config, beta)\n",
    "            data.append(config.unsqueeze(0))\n",
    "            labels.append(0 if T < 2.3 else 1)  # label: 0 for low T, 1 for high T\n",
    "    return torch.stack(data).float(), torch.tensor(labels)"
   ]
  },
  {
   "cell_type": "markdown",
   "id": "43ae1fb8",
   "metadata": {},
   "source": [
    "## Train/Test Classifier"
   ]
  },
  {
   "cell_type": "code",
   "execution_count": 8,
   "id": "cd97202f",
   "metadata": {},
   "outputs": [],
   "source": [
    "def train_classifier(model, train_data, train_labels, epochs=10, lr=1e-3):\n",
    "    optimizer = torch.optim.Adam(model.parameters(), lr=lr)\n",
    "    loss_fn = nn.CrossEntropyLoss()\n",
    "    for epoch in range(epochs):\n",
    "        model.train()\n",
    "        logits = model(train_data)\n",
    "        loss = loss_fn(logits, train_labels)\n",
    "        optimizer.zero_grad()\n",
    "        loss.backward()\n",
    "        optimizer.step()\n",
    "        print(f\"Epoch {epoch+1}, Loss: {loss.item():.4f}\")\n",
    "    return model"
   ]
  },
  {
   "cell_type": "code",
   "execution_count": 9,
   "id": "19b524b8",
   "metadata": {},
   "outputs": [],
   "source": [
    "def test_classifier(model, test_data, test_labels):\n",
    "    model.eval()\n",
    "    with torch.no_grad():\n",
    "        preds = model(test_data).argmax(dim=1)\n",
    "        acc = (preds == test_labels).float().mean().item()\n",
    "        print(f\"Test Accuracy: {acc*100:.2f}%\")\n",
    "    return acc"
   ]
  },
  {
   "cell_type": "code",
   "execution_count": null,
   "id": "5b18bc86-0801-49ec-8d99-b03f282db8e2",
   "metadata": {},
   "outputs": [],
   "source": []
  },
  {
   "cell_type": "code",
   "execution_count": null,
   "id": "8b2cfdc5-9d8a-45db-a047-303f04580a06",
   "metadata": {},
   "outputs": [],
   "source": []
  },
  {
   "cell_type": "code",
   "execution_count": null,
   "id": "47143c24-21d9-44bf-b689-06b58e39a1c6",
   "metadata": {},
   "outputs": [],
   "source": []
  }
 ],
 "metadata": {
  "kernelspec": {
   "display_name": "Python 3 (ipykernel)",
   "language": "python",
   "name": "python3"
  },
  "language_info": {
   "codemirror_mode": {
    "name": "ipython",
    "version": 3
   },
   "file_extension": ".py",
   "mimetype": "text/x-python",
   "name": "python",
   "nbconvert_exporter": "python",
   "pygments_lexer": "ipython3",
   "version": "3.9.15"
  }
 },
 "nbformat": 4,
 "nbformat_minor": 5
}
